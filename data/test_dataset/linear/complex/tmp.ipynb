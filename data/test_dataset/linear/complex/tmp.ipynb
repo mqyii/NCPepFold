{
 "cells": [
  {
   "cell_type": "code",
   "execution_count": 20,
   "metadata": {},
   "outputs": [],
   "source": [
    "from Bio import SeqIO\n",
    "from Bio.PDB import PDBParser\n",
    "from Bio.Seq import Seq\n",
    "from Bio.SeqRecord import SeqRecord"
   ]
  },
  {
   "cell_type": "code",
   "execution_count": 21,
   "metadata": {},
   "outputs": [],
   "source": [
    "three_to_one = {\n",
    "    \"ALA\": \"A\", \"CYS\": \"C\", \"ASP\": \"D\", \"GLU\": \"E\", \"PHE\": \"F\",\n",
    "    \"GLY\": \"G\", \"HIS\": \"H\", \"ILE\": \"I\", \"LYS\": \"K\", \"LEU\": \"L\",\n",
    "    \"MET\": \"M\", \"ASN\": \"N\", \"PRO\": \"P\", \"GLN\": \"Q\", \"ARG\": \"R\",\n",
    "    \"SER\": \"S\", \"THR\": \"T\", \"VAL\": \"V\", \"TRP\": \"W\", \"TYR\": \"Y\"\n",
    "}\n"
   ]
  },
  {
   "cell_type": "code",
   "execution_count": 22,
   "metadata": {},
   "outputs": [],
   "source": [
    "def extract_sequence_from_pdb(pdb_file):\n",
    "    parser = PDBParser(QUIET=True)\n",
    "    structure = parser.get_structure(\"structure\", pdb_file)\n",
    "\n",
    "    sequences = []\n",
    "    for model in structure:\n",
    "        for chain in model:\n",
    "            chain_sequence = \"\"\n",
    "            for residue in chain:\n",
    "                chain_sequence += three_to_one.get(residue.resname, \"X\")\n",
    "            sequences.append(SeqRecord(chain_sequence, id=chain.id))\n",
    "\n",
    "    return sequences\n"
   ]
  },
  {
   "cell_type": "code",
   "execution_count": 32,
   "metadata": {},
   "outputs": [
    {
     "name": "stdout",
     "output_type": "stream",
     "text": [
      ">Chain P\n",
      "CDIHVXWEWECFEKL\n",
      "15\n",
      ">Chain V\n",
      "EVVKFMDVYQRSYCHPIETLVDIFQEYPDEIEYIFKPSCVPLMRCGGCCNDEGLECVPTEESNITMQIMRIKPHQGQHIGEMSFLQHNKCECRPK\n",
      "95\n",
      ">Chain W\n",
      "EVVKFMDVYQRSYCHPIETLVDIFQEYPDEIEYIFKPSCVPLMRCGGCCNDEGLECVPTEESNITMQIMRIKPHQGQHIGEMSFLQHNKCECRPK\n",
      "95\n"
     ]
    }
   ],
   "source": [
    "pdb_file = \"/home/light/mqy/ncaa/data/ncaa/cyc/complex/ss/6Z13/6Z13_clean.pdb\"\n",
    "sequences = extract_sequence_from_pdb(pdb_file)\n",
    "\n",
    "for seq_record in sequences:\n",
    "    print(f\">Chain {seq_record.id}\")\n",
    "    print(seq_record.seq)\n",
    "    print(len(seq_record.seq))"
   ]
  },
  {
   "cell_type": "code",
   "execution_count": null,
   "metadata": {},
   "outputs": [
    {
     "ename": "NameError",
     "evalue": "name 'SNYCNQMMKSRNLTKDRCKPVNTFVHESLADVQAVCSQKNVACKNGQTNCYQSYSTMSITDCRETGSSKYPNCAYKTTQANKHIIVACEGNPYVPVHFDASV' is not defined",
     "output_type": "error",
     "traceback": [
      "\u001b[0;31m---------------------------------------------------------------------------\u001b[0m",
      "\u001b[0;31mNameError\u001b[0m                                 Traceback (most recent call last)",
      "Cell \u001b[0;32mIn[24], line 1\u001b[0m\n\u001b[0;32m----> 1\u001b[0m \u001b[43mSNYCNQMMKSRNLTKDRCKPVNTFVHESLADVQAVCSQKNVACKNGQTNCYQSYSTMSITDCRETGSSKYPNCAYKTTQANKHIIVACEGNPYVPVHFDASV\u001b[49m\n\u001b[1;32m      2\u001b[0m SNYCNQMMKSRNLTKDRCKPVNTFVHESLADVQAVCSQKNVACKNGQTNCYQSYSTMSITDCRETGSSKYPNCAYKTTQANKHIIVACEGNPYVPVHFDASV\n",
      "\u001b[0;31mNameError\u001b[0m: name 'SNYCNQMMKSRNLTKDRCKPVNTFVHESLADVQAVCSQKNVACKNGQTNCYQSYSTMSITDCRETGSSKYPNCAYKTTQANKHIIVACEGNPYVPVHFDASV' is not defined"
     ]
    }
   ],
   "source": [
    "QVQLKQSGPGLVQPSQSLSITCTVSGFSLTNYGVHWVRQSPGKGLEWLGVIWSGGNTDYNTPFTSRLSINKDNSKSQVFFKMNSLQSNDTAIYYCARALTYYDYEFAYWGQGTLVTVSAASTKGPSVFPLAPSSKSTSGGTAALGCLVKDYFPEPVTVSWNSGALTSGVHTFPAVLQSSGLYSLSSVVTVPSSSLGTQTYICNVNHKPSNTKVDKRVEPKS\n",
    "QVQLKQSGPGLVQPSQSLSITCTVSGFSLTNYGVHWVRQSPGKGLEWLGVIWSGGNTDYNTPFTSRLSINKDNSKSQVFFKMNSLQSNDTAIYYCARALTYYDYEFAYWGQGTLVTVSAASTKGPSVFPLAPSSKSTSGGTAALGCLVKDYFPEPVTVSWNSGALTSGVHTFPAVLQSSGLYSLSSVVTVPSSSLGTQTYICNVNHKPSNTKVDKRVEPK\n"
   ]
  },
  {
   "cell_type": "markdown",
   "metadata": {},
   "source": [
    "3oqza-protein-1\n",
    "1rbds-pep 少了最后一个残基 不知道为什么 把最后一个修饰去了\n",
    "5ottB-protein-1\n",
    "2rlnS-protein-2\n",
    "3or0a-protein-1\n",
    "4o37A-protein-1\n",
    "3oqyb-protein-1\n",
    "4okfA-protein-1\n",
    "\n",
    "5IR1-protein-2 nc_complex\n",
    "6Z13-pep 少了最后一个残基 不知道为什么 把最后一个修饰去了"
   ]
  }
 ],
 "metadata": {
  "kernelspec": {
   "display_name": "mix",
   "language": "python",
   "name": "python3"
  },
  "language_info": {
   "codemirror_mode": {
    "name": "ipython",
    "version": 3
   },
   "file_extension": ".py",
   "mimetype": "text/x-python",
   "name": "python",
   "nbconvert_exporter": "python",
   "pygments_lexer": "ipython3",
   "version": "3.9.18"
  }
 },
 "nbformat": 4,
 "nbformat_minor": 2
}
