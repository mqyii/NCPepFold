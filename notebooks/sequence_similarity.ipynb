{
 "cells": [
  {
   "cell_type": "code",
   "execution_count": 1,
   "metadata": {},
   "outputs": [
    {
     "name": "stderr",
     "output_type": "stream",
     "text": [
      "/home/light/mambaforge/envs/mix/lib/python3.9/site-packages/Bio/SubsMat/__init__.py:126: BiopythonDeprecationWarning: Bio.SubsMat has been deprecated, and we intend to remove it in a future release of Biopython. As an alternative, please consider using Bio.Align.substitution_matrices as a replacement, and contact the Biopython developers if you still need the Bio.SubsMat module.\n",
      "  warnings.warn(\n"
     ]
    }
   ],
   "source": [
    "from pathlib import Path\n",
    "from Bio import SeqIO, pairwise2\n",
    "from collections import defaultdict\n",
    "from Bio.SubsMat import MatrixInfo as matlist"
   ]
  },
  {
   "cell_type": "code",
   "execution_count": 2,
   "metadata": {},
   "outputs": [],
   "source": [
    "class FASTAinfo:\n",
    "    def __init__(self, name : str, type_info : str, sequence : str, score: int):\n",
    "        self.name = name\n",
    "        self.type_info = type_info\n",
    "        self.sequence = sequence\n",
    "        self.score = score"
   ]
  },
  {
   "cell_type": "code",
   "execution_count": 3,
   "metadata": {},
   "outputs": [],
   "source": [
    "error_file = \"/home/light/mqy/ncaa/notebooks/tmp/id_length_larger_than_300_20241104.txt\"\n",
    "with open (error_file, \"r\") as f:\n",
    "    error_id = f.readlines() # 返回列表\n",
    "error_id = [line.strip() for line in error_id] # 去掉换行符\n"
   ]
  },
  {
   "cell_type": "code",
   "execution_count": 4,
   "metadata": {},
   "outputs": [],
   "source": [
    "training_fastas = []\n",
    "training_set_path = Path(\"/home/light/mqy/ncaa/data/training\")\n",
    "for subdir in training_set_path.iterdir():\n",
    "    if subdir.is_dir():\n",
    "        if len(list(subdir.glob(\"*-protein-*.fasta\"))) == 0:\n",
    "            if subdir.name not in error_id:\n",
    "                fasta_path = subdir / f\"{subdir.name}-pep.fasta\"\n",
    "                fasta = [str(record.seq) for record in SeqIO.parse(fasta_path,\"fasta\")][0]\n",
    "                training_fastas.append(fasta)"
   ]
  },
  {
   "cell_type": "code",
   "execution_count": 5,
   "metadata": {},
   "outputs": [],
   "source": [
    "test_fastas = {}\n",
    "test_root_path = Path(\"/home/light/mqy/ncaa/data/test_all\")\n",
    "for subdir in test_root_path.iterdir():\n",
    "    type_info  = subdir.name\n",
    "    if subdir.is_dir():\n",
    "        for subsubdir in subdir.iterdir():\n",
    "            if subsubdir.is_dir():\n",
    "                fasta_path = subsubdir / f\"{subsubdir.name}-pep.fasta\"\n",
    "                fasta_name = subsubdir.name\n",
    "                fasta = [str(record.seq) for record in SeqIO.parse(fasta_path,\"fasta\")][0]\n",
    "                test_fastas[fasta_name] = FASTAinfo(\n",
    "                    name=fasta_name,\n",
    "                    type_info=type_info,\n",
    "                    sequence=fasta,\n",
    "                    score=None\n",
    "                )"
   ]
  },
  {
   "cell_type": "code",
   "execution_count": 6,
   "metadata": {},
   "outputs": [],
   "source": [
    "def align_sequences(seq_a, seq_b):\n",
    "    alignments = pairwise2.align.globalms(seq_a, seq_b, 2, -1, -0.5, -0.1)\n",
    "    best_alignment = alignments[0]\n",
    "    return best_alignment"
   ]
  },
  {
   "cell_type": "code",
   "execution_count": 7,
   "metadata": {},
   "outputs": [],
   "source": [
    "for name, fasta_info in test_fastas.items():\n",
    "    score = 0\n",
    "    for fasta_j in training_fastas:\n",
    "        best_alignment = align_sequences(fasta_info.sequence, fasta_j)\n",
    "        max_score = len(best_alignment.seqA) + len(best_alignment.seqB) - abs(len(best_alignment.seqA) - len(best_alignment.seqB))\n",
    "        similarity_percentage = best_alignment.score / max_score * 100\n",
    "        if similarity_percentage > score:\n",
    "            score = similarity_percentage\n",
    "    \n",
    "    fasta_info.score = score"
   ]
  },
  {
   "cell_type": "code",
   "execution_count": 8,
   "metadata": {},
   "outputs": [
    {
     "name": "stdout",
     "output_type": "stream",
     "text": [
      "Type: linear_monomer\n",
      "  Name: 6n68A with Score: 16.286\n",
      "  Name: 2norA with Score: 100.000\n",
      "  Name: 1v50A with Score: 100.000\n",
      "  Name: 2l87A with Score: 17.115\n",
      "  Name: 2mzaA with Score: 18.182\n",
      "  Name: 2n0nA with Score: 14.286\n",
      "  Name: 2LDA with Score: 11.429\n",
      "  Name: 6cmhA with Score: 100.000\n",
      "  Name: 3zs2D with Score: 15.326\n",
      "  Name: 3cmhA with Score: 100.000\n",
      "  Name: 1vm5A with Score: 15.227\n",
      "  Name: 2LDD with Score: 11.786\n",
      "  Name: 1geaA with Score: 13.824\n",
      "  Name: 2fbsN with Score: 17.292\n",
      "  Name: 5kgyA with Score: 16.744\n",
      "  Name: 2LDC with Score: 11.739\n",
      "  Name: 6QXB with Score: 22.222\n",
      "  Name: 1mxqA with Score: 100.000\n",
      "  Name: 2mylA with Score: 14.286\n",
      "  Name: 7jgyA with Score: 16.286\n",
      "  Name: 2mz2A with Score: 18.182\n",
      "  Name: 2mymA with Score: 14.394\n",
      "\n",
      "Type: linear_complex\n",
      "  Name: 1d5eA with Score: 16.250\n",
      "  Name: 6gb1B with Score: 27.564\n",
      "  Name: 3oqza with Score: 15.385\n",
      "  Name: 3or0a with Score: 11.346\n",
      "  Name: 2fx8P with Score: 11.200\n",
      "  Name: 2k7lB with Score: 11.071\n",
      "  Name: 2rlnS with Score: 15.385\n",
      "  Name: 5ottB with Score: 21.333\n",
      "  Name: 1rbdS with Score: 15.385\n",
      "  Name: 1d5dA with Score: 16.250\n",
      "  Name: 4o37A with Score: 16.154\n",
      "  Name: 1fevA with Score: 20.000\n",
      "  Name: 1d5hA with Score: 15.385\n",
      "  Name: 3kmzC with Score: 14.167\n",
      "  Name: 4okfA with Score: 15.385\n",
      "  Name: 5otuB with Score: 14.184\n",
      "  Name: 1z3pS with Score: 15.385\n",
      "  Name: 1z3lS with Score: 15.385\n",
      "  Name: 4yjwb with Score: 12.917\n",
      "  Name: 4lkaB with Score: 15.238\n",
      "  Name: 3oqyb with Score: 15.385\n",
      "  Name: 1z3mS with Score: 15.385\n",
      "\n",
      "Type: ss_monomer\n",
      "  Name: 3LO9 with Score: 84.375\n",
      "  Name: 1P9G with Score: 23.229\n",
      "  Name: 2PM5 with Score: 78.485\n",
      "  Name: 6MY3 with Score: 30.000\n",
      "  Name: 2CRD with Score: 17.885\n",
      "  Name: 7N21 with Score: 100.000\n",
      "  Name: 4E82 with Score: 100.000\n",
      "  Name: 6MY2 with Score: 30.000\n",
      "  Name: 4E86 with Score: 92.424\n",
      "  Name: 1BIG with Score: 19.216\n",
      "  Name: 2MFX with Score: 52.083\n",
      "  Name: 1OMC with Score: 28.421\n",
      "  Name: 6MY1 with Score: 30.000\n",
      "  Name: 4E83 with Score: 92.424\n",
      "  Name: 3HJD with Score: 91.935\n",
      "  Name: 2FR9 with Score: 38.333\n",
      "  Name: 2M62 with Score: 27.727\n",
      "  Name: 7N24 with Score: 100.000\n",
      "  Name: 2MG6 with Score: 51.250\n",
      "  Name: 2IH6 with Score: 26.750\n",
      "  Name: 3LO6 with Score: 84.375\n",
      "  Name: 5UG3 with Score: 38.200\n",
      "  Name: 7N25 with Score: 100.000\n",
      "  Name: 1KFP with Score: 30.000\n",
      "  Name: 7N20 with Score: 100.000\n",
      "  Name: 1K64 with Score: 24.800\n",
      "  Name: 2EW4 with Score: 22.955\n",
      "\n",
      "Type: nc_complex\n",
      "  Name: 5ITF with Score: 16.364\n",
      "  Name: 5IOP with Score: 16.364\n",
      "  Name: 2AXI with Score: 15.238\n",
      "  Name: 5IR1 with Score: 16.364\n",
      "\n",
      "Type: nc_monomer\n",
      "  Name: 2N8E with Score: 18.936\n",
      "  Name: 2M2S with Score: 75.000\n",
      "  Name: 2KNN with Score: 91.935\n",
      "  Name: 2MSQ with Score: 42.973\n",
      "  Name: 4M6E with Score: 12.647\n",
      "  Name: 2J15 with Score: 23.036\n",
      "  Name: 2M2H with Score: 75.000\n",
      "  Name: 2M1P with Score: 75.000\n",
      "  Name: 2M2X with Score: 100.000\n",
      "  Name: 2M2G with Score: 75.000\n",
      "  Name: 1T9E with Score: 100.000\n",
      "\n",
      "Type: ss_complex\n",
      "  Name: 5T1L with Score: 22.381\n",
      "  Name: 5U5F with Score: 26.429\n",
      "  Name: 6ZCD with Score: 21.957\n",
      "  Name: 6ZBR with Score: 16.458\n",
      "  Name: 5JME with Score: 45.000\n",
      "  Name: 5H5R with Score: 17.037\n",
      "  Name: 5XCO with Score: 25.179\n",
      "  Name: 6Z13 with Score: 17.069\n",
      "  Name: 4Z0F with Score: 24.750\n",
      "  Name: 5T1K with Score: 29.000\n",
      "  Name: 6Z3F with Score: 16.458\n",
      "  Name: 2BR8 with Score: 43.333\n",
      "  Name: 6BAE with Score: 22.381\n",
      "  Name: 2BYP with Score: 100.000\n",
      "  Name: 2UZ6 with Score: 44.286\n",
      "  Name: 5CO5 with Score: 58.250\n",
      "  Name: 5HYQ with Score: 22.381\n",
      "  Name: 4EZ1 with Score: 38.529\n",
      "  Name: 5H5Q with Score: 27.174\n",
      "  Name: 7N43 with Score: 40.000\n",
      "\n"
     ]
    }
   ],
   "source": [
    "# 按 type_info 分组\n",
    "type_groups = defaultdict(list)\n",
    "for name, fasta_info in test_fastas.items():\n",
    "    type_groups[fasta_info.type_info].append(fasta_info)\n",
    "\n",
    "# 打印每个 type_info 分组中 score 小于 25 的 name\n",
    "for type_info, fastas in type_groups.items():\n",
    "    print(f\"Type: {type_info}\")\n",
    "    for fasta in fastas:\n",
    "        print(f\"  Name: {fasta.name} with Score: {fasta.score:.3f}\")\n",
    "        # if fasta.score < 25:\n",
    "        #     print(f\"  Name: {fasta.name} with Score: {fasta.score:.3f}\")\n",
    "    print()"
   ]
  },
  {
   "cell_type": "code",
   "execution_count": null,
   "metadata": {},
   "outputs": [],
   "source": []
  }
 ],
 "metadata": {
  "kernelspec": {
   "display_name": "mix",
   "language": "python",
   "name": "python3"
  },
  "language_info": {
   "codemirror_mode": {
    "name": "ipython",
    "version": 3
   },
   "file_extension": ".py",
   "mimetype": "text/x-python",
   "name": "python",
   "nbconvert_exporter": "python",
   "pygments_lexer": "ipython3",
   "version": "3.9.18"
  }
 },
 "nbformat": 4,
 "nbformat_minor": 2
}
