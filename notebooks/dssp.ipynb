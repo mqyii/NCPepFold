{
 "cells": [
  {
   "cell_type": "code",
   "execution_count": 1,
   "metadata": {},
   "outputs": [
    {
     "name": "stdout",
     "output_type": "stream",
     "text": [
      "α-螺旋占比: 57.14%\n",
      "β-折叠占比: 0.00%\n"
     ]
    }
   ],
   "source": [
    "# 打开DSSP输出文件\n",
    "with open('/home/light/mqy/ncaa/data/ncaa/output.dssp', 'r') as file:\n",
    "    lines = file.readlines()\n",
    "\n",
    "# 初始化计数器\n",
    "total_residues = 0\n",
    "alpha_helices = 0\n",
    "beta_sheets = 0\n",
    "\n",
    "# 标识数据段的开始\n",
    "data_start = False\n",
    "\n",
    "# 解析每行数据\n",
    "for line in lines:\n",
    "    # 跳过文件头，找到二级结构数据部分的开始\n",
    "    if line.startswith(\"  #  RESIDUE AA STRUCTURE\"):\n",
    "        data_start = True\n",
    "        continue\n",
    "\n",
    "    if data_start:\n",
    "        # 提取二级结构符号\n",
    "        structure = line[16]\n",
    "\n",
    "        # 总残基计数\n",
    "        total_residues += 1\n",
    "\n",
    "        if structure == 'H':  # α-螺旋\n",
    "            alpha_helices += 1\n",
    "        elif structure == 'E':  # β-折叠\n",
    "            beta_sheets += 1\n",
    "all = alpha_helices + beta_sheets\n",
    "\n",
    "# alpha_ratio = (alpha_helices / total_residues) * 100\n",
    "# beta_ratio = (beta_sheets / total_residues) * 100\n",
    "all_ratio = (all / total_residues) * 100\n",
    "\n",
    "# print(f\"α-螺旋占比: {alpha_ratio:.2f}%\")\n",
    "# print(f\"β-折叠占比: {beta_ratio:.2f}%\")\n",
    "\n",
    "print(f\"二级结构占比: {alpha_ratio:.2f}%\")\n"
   ]
  },
  {
   "cell_type": "code",
   "execution_count": null,
   "metadata": {},
   "outputs": [],
   "source": [
    "from pathlib import Path\n",
    "root_path = Path()\n",
    "for subdir in root_path.iterdir():\n",
    "    dssp_path = subdir / \"output.dssp\"\n",
    "    with open('/home/light/mqy/ncaa/data/ncaa/output.dssp', 'r') as file:\n",
    "        lines = file.readlines()\n",
    "    total_residues = 0\n",
    "    alpha_helices = 0\n",
    "    beta_sheets = 0\n",
    "\n",
    "    data_start = False\n",
    "\n",
    "    for line in lines:\n",
    "        if line.startswith(\"  #  RESIDUE AA STRUCTURE\"):\n",
    "            data_start = True\n",
    "            continue\n",
    "\n",
    "        if data_start:\n",
    "            structure = line[16]\n",
    "\n",
    "            total_residues += 1\n",
    "\n",
    "            if structure == 'H':  # α-螺旋\n",
    "                alpha_helices += 1\n",
    "            elif structure == 'E':  # β-折叠\n",
    "                beta_sheets += 1\n",
    "    all = alpha_helices + beta_sheets\n",
    "    all_ratio = (all / total_residues) * 100\n",
    "\n",
    "    print(f\"{subdir.name}二级结构占比: {alpha_ratio:.2f}%\")\n",
    "    "
   ]
  },
  {
   "cell_type": "markdown",
   "metadata": {},
   "source": []
  }
 ],
 "metadata": {
  "kernelspec": {
   "display_name": "mix",
   "language": "python",
   "name": "python3"
  },
  "language_info": {
   "codemirror_mode": {
    "name": "ipython",
    "version": 3
   },
   "file_extension": ".py",
   "mimetype": "text/x-python",
   "name": "python",
   "nbconvert_exporter": "python",
   "pygments_lexer": "ipython3",
   "version": "3.9.18"
  }
 },
 "nbformat": 4,
 "nbformat_minor": 2
}
