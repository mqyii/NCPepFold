{
 "cells": [
  {
   "cell_type": "code",
   "execution_count": 4,
   "metadata": {},
   "outputs": [
    {
     "name": "stdout",
     "output_type": "stream",
     "text": [
      "2N8E:0.840\n",
      "2M2S:0.400\n",
      "2KNN:0.855\n",
      "2MSQ:0.841\n",
      "4M6E:0.336\n",
      "2J15:0.556\n",
      "2M2H:0.492\n",
      "2M1P:0.716\n",
      "2M2X:0.138\n",
      "2M2G:0.773\n",
      "1T9E:0.647\n"
     ]
    }
   ],
   "source": [
    "import torch\n",
    "from pathlib import Path\n",
    "import pandas as pd\n",
    "from collections import Counter\n",
    "from Bio import SeqIO\n",
    "import yaml\n",
    "\n",
    "def get_pep_length(pep_fasta_path):\n",
    "    records = list(SeqIO.parse(pep_fasta_path, \"fasta\"))\n",
    "    pep_length = len(str(records[0].seq))\n",
    "    return pep_length\n",
    "\n",
    "def ncaa_num(yaml_file):\n",
    "    with open(yaml_file, 'r') as file:\n",
    "        config = yaml.safe_load(file)\n",
    "    chain_num = 0\n",
    "    for chain in config['sm_inputs']:\n",
    "        chain_num += 1\n",
    "    return chain_num\n",
    "\n",
    "root_path = Path(\"/home/light/mqy/ncaa/data/ncaa/cyc/monomer/head_to_tail\")\n",
    "for subdir in root_path.iterdir():\n",
    "    if subdir.is_dir():\n",
    "        name = subdir.name\n",
    "        # if \"4llbC\" in name:\n",
    "        #     continue\n",
    "        pt = subdir / f\"{name}_aux_ckpt192.pt\"\n",
    "        pep_fasta_path = subdir / f\"{name}-pep.fasta\"\n",
    "        yaml_file = subdir / \"config_aa.yaml\"\n",
    "        try:\n",
    "            ncaa = ncaa_num(yaml_file)\n",
    "            pep_length = get_pep_length(pep_fasta_path)\n",
    "            pep_aa = pep_length - ncaa\n",
    "\n",
    "            data = torch.load(pt)\n",
    "            plddt = data[\"mean_plddt\"]\n",
    "            pep_plddt = ((data[\"plddts\"][0][:pep_aa-ncaa].sum()+data[\"plddts\"][0][-ncaa:].sum())/pep_length).item()\n",
    "            print(f\"{name}:{pep_plddt:.3f}\")\n",
    "        except Exception as e:\n",
    "            print(f\"{name}:{str(e)}\")\n"
   ]
  }
 ],
 "metadata": {
  "kernelspec": {
   "display_name": "mix",
   "language": "python",
   "name": "python3"
  },
  "language_info": {
   "codemirror_mode": {
    "name": "ipython",
    "version": 3
   },
   "file_extension": ".py",
   "mimetype": "text/x-python",
   "name": "python",
   "nbconvert_exporter": "python",
   "pygments_lexer": "ipython3",
   "version": "3.9.18"
  }
 },
 "nbformat": 4,
 "nbformat_minor": 2
}
